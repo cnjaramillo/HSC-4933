{
 "cells": [
  {
   "cell_type": "code",
   "execution_count": 12,
   "metadata": {},
   "outputs": [
    {
     "name": "stdout",
     "output_type": "stream",
     "text": [
      "The required sample size for systematic sampling is approximately 384.\n",
      "\n",
      "The systematic sampling selected the following elements:\n",
      "[1, 9, 17, 25, 33, 41, 49, 57, 65, 73, 81, 89, 97, 105, 113, 121, 129, 137, 145, 153, 161, 169, 177, 185, 193, 201, 209, 217, 225, 233, 241, 249, 257, 265, 273, 281, 289, 297, 305, 313, 321, 329, 337, 345, 353, 361, 369, 377, 385, 393, 401, 409, 417, 425, 433, 441, 449, 457, 465, 473, 481, 489, 497, 505, 513, 521, 529, 537, 545, 553, 561, 569, 577, 585, 593, 601, 609, 617, 625, 633, 641, 649, 657, 665, 673, 681, 689, 697, 705, 713, 721, 729, 737, 745, 753, 761, 769, 777, 785, 793, 801, 809, 817, 825, 833, 841, 849, 857, 865, 873, 881, 889, 897, 905, 913, 921, 929, 937, 945, 953, 961, 969, 977, 985, 993, 1001, 1009, 1017, 1025, 1033, 1041, 1049, 1057, 1065, 1073, 1081, 1089, 1097, 1105, 1113, 1121, 1129, 1137, 1145, 1153, 1161, 1169, 1177, 1185, 1193, 1201, 1209, 1217, 1225, 1233, 1241, 1249, 1257, 1265, 1273, 1281, 1289, 1297, 1305, 1313, 1321, 1329, 1337, 1345, 1353, 1361, 1369, 1377, 1385, 1393, 1401, 1409, 1417, 1425, 1433, 1441, 1449, 1457, 1465, 1473, 1481, 1489, 1497, 1505, 1513, 1521, 1529, 1537, 1545, 1553, 1561, 1569, 1577, 1585, 1593, 1601, 1609, 1617, 1625, 1633, 1641, 1649, 1657, 1665, 1673, 1681, 1689, 1697, 1705, 1713, 1721, 1729, 1737, 1745, 1753, 1761, 1769, 1777, 1785, 1793, 1801, 1809, 1817, 1825, 1833, 1841, 1849, 1857, 1865, 1873, 1881, 1889, 1897, 1905, 1913, 1921, 1929, 1937, 1945, 1953, 1961, 1969, 1977, 1985, 1993, 2001, 2009, 2017, 2025, 2033, 2041, 2049, 2057, 2065, 2073, 2081, 2089, 2097, 2105, 2113, 2121, 2129, 2137, 2145, 2153, 2161, 2169, 2177, 2185, 2193, 2201, 2209, 2217, 2225, 2233, 2241, 2249, 2257, 2265, 2273, 2281, 2289, 2297, 2305, 2313, 2321, 2329, 2337, 2345, 2353, 2361, 2369, 2377, 2385, 2393]\n"
     ]
    }
   ],
   "source": [
    "def z_score(confidence_level):\n",
    "    if confidence_level == 95:\n",
    "        return 1.96\n",
    "    elif confidence_level == 99:\n",
    "        return 2.576\n",
    "    else:\n",
    "        print(\"Invalid Confidence Value; Use 95 or 99\")\n",
    "def calculate_sample_size(population_size, confidence_level, margin_of_error):\n",
    "    Z=z_score(confidence_level)\n",
    "    P=0.5\n",
    "    E=margin_of_error\n",
    "    sample_size=(Z**2*P*(1-P))/E**2\n",
    "    return int(sample_size)\n",
    "def systematic_sampling(population, sample_size):\n",
    "    num=len(population)\n",
    "    interval=num//sample_size\n",
    "    return [population[i] for i in range(0, num, interval)][:sample_size]\n",
    "def main():\n",
    "    try:\n",
    "        population_size=int(input(\"Enter the population size: \"))\n",
    "        confidence_level=float(input(\"Enter the confidence level (95 or 99): \"))\n",
    "        margin_of_error=float(input(\"Enter the margin of error (0.05 for 5%): \"))\n",
    "        max_sample_size = calculate_sample_size(population_size, confidence_level, margin_of_error)\n",
    "        print(f\"The required sample size for systematic sampling is approximately {max_sample_size}.\")\n",
    "        requested_sample_size = int(input(\"\\nEnter the sample size you want to draw: \"))\n",
    "        if requested_sample_size > max_sample_size:\n",
    "            print(f\"The requested sample size can not be done with the given population size, confidence level, and margin of error.\")\n",
    "            print(f\"The maximum sample size possible is {max_sample_size}. Enter a value lower than {max_sample_size}.\")\n",
    "        else:\n",
    "            population = list(range(1, population_size + 1))\n",
    "            sampled_elements = systematic_sampling(population, requested_sample_size)\n",
    "            print(f\"\\nThe systematic sampling selected the following elements:\\n{sampled_elements}\")\n",
    "    except ValueError as e:\n",
    "        print(f\"Invalid input: {e}\")\n",
    "main()"
   ]
  }
 ],
 "metadata": {
  "kernelspec": {
   "display_name": "Python 3",
   "language": "python",
   "name": "python3"
  },
  "language_info": {
   "codemirror_mode": {
    "name": "ipython",
    "version": 3
   },
   "file_extension": ".py",
   "mimetype": "text/x-python",
   "name": "python",
   "nbconvert_exporter": "python",
   "pygments_lexer": "ipython3",
   "version": "3.12.5"
  }
 },
 "nbformat": 4,
 "nbformat_minor": 2
}
