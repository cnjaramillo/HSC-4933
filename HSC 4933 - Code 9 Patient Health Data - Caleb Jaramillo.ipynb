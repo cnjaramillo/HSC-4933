{
 "cells": [
  {
   "cell_type": "code",
   "execution_count": 2,
   "metadata": {},
   "outputs": [
    {
     "name": "stdout",
     "output_type": "stream",
     "text": [
      "Patient 1 Information:\n",
      "Name: Smith Johnson\n",
      "Age: 54\n",
      "Gender: Male\n",
      "Blood Pressure: (162, 94)\n",
      "Temperature: 35.9°C\n",
      "\n",
      "Patient 2 Information:\n",
      "Name: July Black\n",
      "Age: 42\n",
      "Gender: Female\n",
      "Blood Pressure: (124, 80)\n",
      "Temperature: 38.3°C\n",
      "\n",
      "Patient 1 is Hypertensive: True\n",
      "Patient 1 is Feverish: False\n",
      "\n",
      "Patient 2 is Hypertensive: False\n",
      "Patient 2 is Feverish: True\n"
     ]
    }
   ],
   "source": [
    "class patient:\n",
    "    def __init__(self,name,age,gender,blood_pressure,temperature):\n",
    "        self.name=name\n",
    "        self.age=age\n",
    "        self.gender=gender\n",
    "        self.blood_pressure=blood_pressure\n",
    "        self.temperature=temperature\n",
    "    def display_patient_info(self):\n",
    "        print(f\"Name: {self.name}\")\n",
    "        print(f\"Age: {self.age}\")\n",
    "        print(f\"Gender: {self.gender}\")\n",
    "        print(f\"Blood Pressure: {self.blood_pressure}\")\n",
    "        print(f\"Temperature: {self.temperature}°C\\n\")\n",
    "    def is_hypertensive(self):\n",
    "        systolic, diastolic=self.blood_pressure\n",
    "        return systolic >= 140 or diastolic >= 90\n",
    "    def is_feverish(self):\n",
    "        return self.temperature >= 37.5\n",
    "patient1 = patient(\"Smith Johnson\", 54, \"Male\", (162, 94), 35.9)\n",
    "patient2 = patient(\"July Black\", 42, \"Female\", (124, 80), 38.3)\n",
    "print(\"Patient 1 Information:\")\n",
    "patient1.display_patient_info()\n",
    "print(\"Patient 2 Information:\")\n",
    "patient2.display_patient_info()\n",
    "print(f\"Patient 1 is Hypertensive: {patient1.is_hypertensive()}\")\n",
    "print(f\"Patient 1 is Feverish: {patient1.is_feverish()}\\n\")\n",
    "print(f\"Patient 2 is Hypertensive: {patient2.is_hypertensive()}\")\n",
    "print(f\"Patient 2 is Feverish: {patient2.is_feverish()}\")\n",
    "\n",
    "\n",
    "    \n",
    "\n"
   ]
  }
 ],
 "metadata": {
  "kernelspec": {
   "display_name": "Python 3",
   "language": "python",
   "name": "python3"
  },
  "language_info": {
   "codemirror_mode": {
    "name": "ipython",
    "version": 3
   },
   "file_extension": ".py",
   "mimetype": "text/x-python",
   "name": "python",
   "nbconvert_exporter": "python",
   "pygments_lexer": "ipython3",
   "version": "3.12.5"
  }
 },
 "nbformat": 4,
 "nbformat_minor": 2
}
