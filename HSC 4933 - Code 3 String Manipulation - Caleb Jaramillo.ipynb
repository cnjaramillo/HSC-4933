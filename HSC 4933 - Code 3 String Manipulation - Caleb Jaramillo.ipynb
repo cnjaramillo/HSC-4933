{
 "cells": [
  {
   "cell_type": "code",
   "execution_count": 4,
   "metadata": {},
   "outputs": [
    {
     "name": "stdout",
     "output_type": "stream",
     "text": [
      "Greetings john, pleasure to meet you!\n"
     ]
    }
   ],
   "source": [
    "#Problem 1\n",
    "Name=str(input(\"Enter your name: \"))\n",
    "print(f\"Greetings {Name}, pleasure to meet you!\")"
   ]
  },
  {
   "cell_type": "code",
   "execution_count": 17,
   "metadata": {},
   "outputs": [
    {
     "name": "stdout",
     "output_type": "stream",
     "text": [
      "nhoj\n"
     ]
    }
   ],
   "source": [
    "#Problem 2\n",
    "Word=str(input(\"Enter a word: \"))\n",
    "reversed=(f\"{Word}\"[::-1])\n",
    "print(f\"{reversed}\")"
   ]
  },
  {
   "cell_type": "code",
   "execution_count": 23,
   "metadata": {},
   "outputs": [
    {
     "name": "stdout",
     "output_type": "stream",
     "text": [
      "This sentence has 7 characters in it\n"
     ]
    }
   ],
   "source": [
    "#Problem 3\n",
    "Sentence=str(input(\"Please enter a sentence: \"))\n",
    "length=len(f\"{Sentence}\")\n",
    "print(f\"This sentence has {length} characters in it\")"
   ]
  },
  {
   "cell_type": "code",
   "execution_count": 21,
   "metadata": {},
   "outputs": [
    {
     "name": "stdout",
     "output_type": "stream",
     "text": [
      "{'a': 0, 'e': 1, 'i': 0, 'o': 1, 'u': 0}\n"
     ]
    }
   ],
   "source": [
    "#Problem 4\n",
    "String=str(input(\"Please enter a word or sentence: \"))\n",
    "String=String.casefold()\n",
    "count={x:sum([1 for char in String if char == x]) for x in 'aeiou'}\n",
    "print(count)\n"
   ]
  },
  {
   "cell_type": "code",
   "execution_count": 27,
   "metadata": {},
   "outputs": [
    {
     "name": "stdout",
     "output_type": "stream",
     "text": [
      "The word racecar is a palindrome\n"
     ]
    }
   ],
   "source": [
    "#Problem 5\n",
    "Palindrome=str(input(\"Please enter a word: \"))\n",
    "Reverse=Palindrome[::-1]\n",
    "if Palindrome==Reverse:\n",
    "    print(f\"The word {Palindrome} is a palindrome\")\n",
    "else:\n",
    "    print(f\"The word {Palindrome} is not a palindrome\")\n",
    "\n"
   ]
  },
  {
   "cell_type": "code",
   "execution_count": 29,
   "metadata": {},
   "outputs": [
    {
     "name": "stdout",
     "output_type": "stream",
     "text": [
      "HI_HOW_ARE_YOU\n"
     ]
    }
   ],
   "source": [
    "#Problem 6\n",
    "Secret=str(input(\"Please input a sentence: \"))\n",
    "Secret1=Secret.upper().replace(' ','_')\n",
    "print(Secret1)\n"
   ]
  }
 ],
 "metadata": {
  "kernelspec": {
   "display_name": "Python 3",
   "language": "python",
   "name": "python3"
  },
  "language_info": {
   "codemirror_mode": {
    "name": "ipython",
    "version": 3
   },
   "file_extension": ".py",
   "mimetype": "text/x-python",
   "name": "python",
   "nbconvert_exporter": "python",
   "pygments_lexer": "ipython3",
   "version": "3.12.5"
  }
 },
 "nbformat": 4,
 "nbformat_minor": 2
}
