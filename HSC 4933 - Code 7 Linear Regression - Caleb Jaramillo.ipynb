{
 "cells": [
  {
   "cell_type": "code",
   "execution_count": 5,
   "metadata": {},
   "outputs": [
    {
     "name": "stdout",
     "output_type": "stream",
     "text": [
      "---Regression Coefficients---\n",
      "Slope (m): 0.52\n",
      "Intercept (b): -971.53\n",
      "Predicted y value: -968.40\n"
     ]
    }
   ],
   "source": [
    "data_points = [\n",
    "\n",
    "    (2000, 72.5),\n",
    "\n",
    "    (2001, 73.1),\n",
    "\n",
    "    (2002, 73.8),\n",
    "\n",
    "    (2003, 74.2),\n",
    "\n",
    "    (2004, 74.7),\n",
    "\n",
    "    (2005, 75.3),\n",
    "\n",
    "    (2006, 75.9),\n",
    "\n",
    "    (2007, 76.5),\n",
    "\n",
    "    (2008, 76.9),\n",
    "\n",
    "    (2009, 77.4),\n",
    "\n",
    "    (2010, 78.0),\n",
    "\n",
    "    (2011, 78.5),\n",
    "\n",
    "    (2012, 79.0),\n",
    "\n",
    "    (2013, 79.5),\n",
    "\n",
    "    (2014, 80.0),\n",
    "\n",
    "    (2015, 80.5),\n",
    "\n",
    "    (2016, 81.0),\n",
    "\n",
    "    (2017, 81.5),\n",
    "\n",
    "    (2018, 82.0),\n",
    "\n",
    "    (2019, 82.5)\n",
    "\n",
    "]\n",
    "\n",
    "def calculate_mean(data):\n",
    "    return sum(data)/len(data)\n",
    "def regression(data_points):\n",
    "    x_values=[point[0] for point in data_points]\n",
    "    y_values=[point[1] for point in data_points]\n",
    "    x_mean=calculate_mean(x_values)\n",
    "    y_mean=calculate_mean(y_values)\n",
    "    numerator=sum((x-x_mean)*(y-y_mean) for x, y in data_points)\n",
    "    demoninator=sum((x-x_mean)**2 for x in x_values)\n",
    "    slope=numerator/demoninator\n",
    "    intercept=y_mean-(slope*x_mean)\n",
    "    return slope, intercept\n",
    "def predictions(new_x, slope, intercept):\n",
    "    return slope*new_x+intercept\n",
    "slope, intercept=regression(data_points)\n",
    "print(\"---Regression Coefficients---\")\n",
    "print(f\"Slope (m): {slope:.2f}\")\n",
    "print(f\"Intercept (b): {intercept:.2f}\")\n",
    "new_x=float(input(\"Enter a new x value for prediction: \"))\n",
    "predicted_y=predictions(new_x, slope, intercept)\n",
    "print(f\"Predicted y value: {predicted_y:.2f}\")"
   ]
  }
 ],
 "metadata": {
  "kernelspec": {
   "display_name": "Python 3",
   "language": "python",
   "name": "python3"
  },
  "language_info": {
   "codemirror_mode": {
    "name": "ipython",
    "version": 3
   },
   "file_extension": ".py",
   "mimetype": "text/x-python",
   "name": "python",
   "nbconvert_exporter": "python",
   "pygments_lexer": "ipython3",
   "version": "3.12.5"
  }
 },
 "nbformat": 4,
 "nbformat_minor": 2
}
