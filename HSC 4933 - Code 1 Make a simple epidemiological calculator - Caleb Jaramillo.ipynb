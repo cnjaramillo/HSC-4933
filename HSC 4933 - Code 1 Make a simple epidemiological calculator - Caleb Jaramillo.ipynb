{
 "cells": [
  {
   "cell_type": "code",
   "execution_count": 18,
   "metadata": {},
   "outputs": [
    {
     "name": "stdout",
     "output_type": "stream",
     "text": [
      "Prevalence: 5.56 per 100000\n",
      "Incidence: 1.07 per 100000\n",
      "Mortality_Rate: 0.11 per 100000\n",
      "Years of Potential Lost Life: 16 years\n"
     ]
    }
   ],
   "source": [
    "\n",
    "#1 \n",
    "\n",
    "#Hepatitis\n",
    "\n",
    "def calculate_prevalence(cases_2022, population):\n",
    "    return ((cases_2022+new_cases)/population)*100000\n",
    "def calculate_incidence(new_cases, population):\n",
    "    return (new_cases/population)*100000\n",
    "def calculate_mortality_rate(deaths, population):\n",
    "    return (deaths/population)*100000\n",
    "def calculate_lost_life(death_age, life_expectancy):\n",
    "    return sum(life_expectancy-age for age in death_age)\n",
    "\n",
    "#inputs\n",
    "\n",
    "cases_2022=int(input(\"Number of cases of Hepatitis in 2022: \"))\n",
    "population=int(input(\"Population: \"))\n",
    "new_cases=int(input(\"New cases of Hepatitis in 2023: \"))\n",
    "deaths=int(input(\"Deaths from Hepatitis: \"))\n",
    "life_expectancy=int(input(\"Average life expectancy: \"))\n",
    "death_age=[int(input(\"Age of death for first person: \")), int(input(\"Age of death for second person: \"))]\n",
    "\n",
    "#calculations\n",
    "\n",
    "prevalence=calculate_prevalence(cases_2022, population)\n",
    "incidence=calculate_incidence(new_cases, population)\n",
    "mortality_rate=calculate_mortality_rate(deaths, population)\n",
    "ypll=calculate_lost_life(death_age, life_expectancy)\n",
    "\n",
    "#output\n",
    "\n",
    "print(f\"Prevalence: {prevalence:.2f} per 100000\")\n",
    "print(f\"Incidence: {incidence:.2f} per 100000\")\n",
    "print(f\"Mortality_Rate: {mortality_rate:.2f} per 100000\")\n",
    "print(f\"Years of Potential Lost Life: {ypll} years\")"
   ]
  },
  {
   "cell_type": "code",
   "execution_count": 16,
   "metadata": {},
   "outputs": [
    {
     "name": "stdout",
     "output_type": "stream",
     "text": [
      "Prevalence: 54.85 per 100000\n",
      "Incidence: 9.32 per 100000\n",
      "Mortality_Rate: 0.04 per 100000\n"
     ]
    }
   ],
   "source": [
    "#2 \n",
    "\n",
    "#Salmonella\n",
    "\n",
    "def calculate_prevalence(cases_2022, population):\n",
    "    return ((cases_2022+new_cases)/population)*100000\n",
    "def calculate_incidence(new_cases, population):\n",
    "    return (new_cases/population)*100000\n",
    "def calculate_mortality_rate(deaths, population):\n",
    "    return (deaths/population)*100000\n",
    "\n",
    "\n",
    "#inputs\n",
    "\n",
    "cases_2022= int(input(\"Number of cases of Salmonella in 2022: \"))\n",
    "population=int(input(\"Population: \"))\n",
    "new_cases=int(input(\"New cases of Salmonella in 2023: \"))\n",
    "deaths=int(input(\"Deaths from Salmonella: \"))\n",
    "\n",
    "#calculations\n",
    "\n",
    "prevalence=calculate_prevalence(cases_2022, population)\n",
    "incidence=calculate_incidence(new_cases, population)\n",
    "mortality_rate=calculate_mortality_rate(deaths, population)\n",
    "\n",
    "#output\n",
    "\n",
    "print(f\"Prevalence: {prevalence:.2f} per 100000\")\n",
    "print(f\"Incidence: {incidence:.2f} per 100000\")\n",
    "print(f\"Mortality_Rate: {mortality_rate:.2f} per 100000\")"
   ]
  },
  {
   "cell_type": "code",
   "execution_count": 15,
   "metadata": {},
   "outputs": [
    {
     "name": "stdout",
     "output_type": "stream",
     "text": [
      "Prevalence: 3000.00 per 100000\n",
      "Incidence: 2500.00 per 100000\n",
      "Mortality_Rate: 40.00 per 100000\n"
     ]
    }
   ],
   "source": [
    "#3 \n",
    "\n",
    "#Influenza\n",
    "\n",
    "def calculate_prevalence(cases_2021, population):\n",
    "    return ((cases_2021+new_cases)/population)*100000\n",
    "def calculate_incidence(new_cases, population):\n",
    "    return (new_cases/population)*100000\n",
    "def calculate_mortality_rate(deaths, population):\n",
    "    return (deaths/population)*100000\n",
    "\n",
    "#inputs\n",
    "\n",
    "cases_2021= int(input(\"Number of cases of Influenza in 2021: \"))\n",
    "population=int(input(\"Population: \"))\n",
    "new_cases=int(input(\"New cases of Influenza in February: \"))\n",
    "deaths=int(input(\"Deaths from Influenza: \"))\n",
    "\n",
    "#calcultions\n",
    "\n",
    "prevalence=calculate_prevalence(cases_2021, population)\n",
    "incidence=calculate_incidence(new_cases, population)\n",
    "mortality_rate=calculate_mortality_rate(deaths, population)\n",
    "\n",
    "#output\n",
    "\n",
    "print(f\"Prevalence: {prevalence:.2f} per 100000\")\n",
    "print(f\"Incidence: {incidence:.2f} per 100000\")\n",
    "print(f\"Mortality_Rate: {mortality_rate:.2f} per 100000\")"
   ]
  },
  {
   "cell_type": "code",
   "execution_count": 19,
   "metadata": {},
   "outputs": [
    {
     "name": "stdout",
     "output_type": "stream",
     "text": [
      "Prevalence: 842.70 per 100000\n",
      "Incidence: 168.54 per 100000\n",
      "Mortality_Rate: 0.28 per 100000\n",
      "Years of Potential Lost Life: 191 years\n"
     ]
    }
   ],
   "source": [
    "#4 \n",
    "\n",
    "#Chlamydia\n",
    "\n",
    "def calculate_prevalence(cases_2022, population):\n",
    "    return ((cases_2022+new_cases)/population)*100000\n",
    "def calculate_incidence(new_cases, population):\n",
    "    return (new_cases/population)*100000\n",
    "def calculate_mortality_rate(deaths, population):\n",
    "    return (deaths/population)*100000\n",
    "def calculate_lost_life(death_age, life_expectancy):\n",
    "    return sum(life_expectancy-age for age in death_age)\n",
    "\n",
    "#inputs\n",
    "\n",
    "cases_2022=int(input(\"Number of cases of Chlamydia by August of 2022: \"))\n",
    "population=int(input(\"Population: \"))\n",
    "new_cases=int(input(\"New cases of Chlamydia from August to November 1st 2022: \"))\n",
    "deaths=int(input(\"Deaths from Chlamydia: \"))\n",
    "life_expectancy=int(input(\"Average life expectancy: \"))\n",
    "death_age=[int(input(\"Age of death for first person: \")), int(input(\"Age of death for second person: \")), int(input(\"Age of death for third person: \")), int(input(\"Age of death for fourth person: \")), int(input(\"Age of death for fifth person: \"))]\n",
    "\n",
    "#calculations\n",
    "\n",
    "prevalence=calculate_prevalence(cases_2022, population)\n",
    "incidence=calculate_incidence(new_cases, population)\n",
    "mortality_rate=calculate_mortality_rate(deaths, population)\n",
    "ypll=calculate_lost_life(death_age, life_expectancy)\n",
    "\n",
    "#output\n",
    "\n",
    "print(f\"Prevalence: {prevalence:.2f} per 100000\")\n",
    "print(f\"Incidence: {incidence:.2f} per 100000\")\n",
    "print(f\"Mortality_Rate: {mortality_rate:.2f} per 100000\")\n",
    "print(f\"Years of Potential Lost Life: {ypll} years\")"
   ]
  }
 ],
 "metadata": {
  "kernelspec": {
   "display_name": "Python 3",
   "language": "python",
   "name": "python3"
  },
  "language_info": {
   "codemirror_mode": {
    "name": "ipython",
    "version": 3
   },
   "file_extension": ".py",
   "mimetype": "text/x-python",
   "name": "python",
   "nbconvert_exporter": "python",
   "pygments_lexer": "ipython3",
   "version": "3.12.5"
  }
 },
 "nbformat": 4,
 "nbformat_minor": 2
}
