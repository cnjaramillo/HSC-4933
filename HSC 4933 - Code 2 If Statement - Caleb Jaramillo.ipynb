{
 "cells": [
  {
   "cell_type": "code",
   "execution_count": 14,
   "metadata": {},
   "outputs": [
    {
     "name": "stdout",
     "output_type": "stream",
     "text": [
      "Please enter a valid temperature\n"
     ]
    }
   ],
   "source": [
    "Patient_Temperature=input(\"What is the patient's temperature: \")\n",
    "try:\n",
    "    if float(Patient_Temperature)>=99.5:\n",
    "        print(\"The patient has a high temperature\")\n",
    "    else:\n",
    "        print(\"The patient has a normal temperature\")\n",
    "except:\n",
    "    print(\"Please enter a valid temperature\")\n",
    "\n",
    "\n"
   ]
  }
 ],
 "metadata": {
  "kernelspec": {
   "display_name": "Python 3",
   "language": "python",
   "name": "python3"
  },
  "language_info": {
   "codemirror_mode": {
    "name": "ipython",
    "version": 3
   },
   "file_extension": ".py",
   "mimetype": "text/x-python",
   "name": "python",
   "nbconvert_exporter": "python",
   "pygments_lexer": "ipython3",
   "version": "3.12.5"
  }
 },
 "nbformat": 4,
 "nbformat_minor": 2
}
