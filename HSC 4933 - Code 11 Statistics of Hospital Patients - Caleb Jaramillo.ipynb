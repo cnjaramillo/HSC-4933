{
 "cells": [
  {
   "cell_type": "code",
   "execution_count": 20,
   "metadata": {},
   "outputs": [
    {
     "name": "stdout",
     "output_type": "stream",
     "text": [
      "===Patient Data Information===\n",
      "AverageAge: 44.40\n",
      "MalePatients: 2\n",
      "FemalePatients: 3\n",
      "HighestBloodPressure: 140/90\n",
      "LowestBloodPressure: 120/80\n",
      "AverageTemperature: 36.88\n"
     ]
    }
   ],
   "source": [
    "\n",
    "import pathlib\n",
    "path = pathlib.Path(\"/Users/cjara/Downloads/Week13Assignment.txt\")\n",
    "def patient_data_file(filename):\n",
    "    try:\n",
    "        with open(str(filename)) as file:\n",
    "            next(file)\n",
    "            ages=[]\n",
    "            temperatures=[]\n",
    "            blood_pressures=[]\n",
    "            female_count=0\n",
    "            male_count=0\n",
    "            for line in file:\n",
    "                name, age, gender, bp, temp=line.strip().split(', ')\n",
    "                ages.append(int(age))\n",
    "                temperatures.append(float(temp))\n",
    "                blood_pressures.append(bp)\n",
    "                if gender.casefold()=='female':\n",
    "                    female_count+=1\n",
    "                if gender.casefold()=='male':\n",
    "                    male_count+=1  \n",
    "            avg_age = sum(ages) / len(ages) if ages else 0\n",
    "            avg_temp = sum(temperatures) / len(temperatures) if temperatures else 0\n",
    "            highest_bp = max(blood_pressures, key=lambda x: tuple(map(int, x.split('/'))))\n",
    "            lowest_bp = min(blood_pressures, key=lambda x: tuple(map(int, x.split('/'))))\n",
    "            print(\"===Patient Data Information===\")\n",
    "            print(f\"AverageAge: {avg_age:.2f}\")\n",
    "            print(f\"MalePatients: {male_count}\")\n",
    "            print(f\"FemalePatients: {female_count}\")\n",
    "            print(f\"HighestBloodPressure: {highest_bp}\")\n",
    "            print(f\"LowestBloodPressure: {lowest_bp}\")\n",
    "            print(f\"AverageTemperature: {avg_temp:.2f}\")\n",
    "            with open('PatientDataStatistics.txt', 'w') as output_file:\n",
    "                output_file.write(\"===Patient Data Information===\\n\")\n",
    "                output_file.write(f\"AverageAge: {avg_age:.2f}\\n\")\n",
    "                output_file.write(f\"MalePatients: {male_count}\\n\")\n",
    "                output_file.write(f\"FemalePatients: {female_count}\\n\")\n",
    "                output_file.write(f\"HighestBloodPressure: {highest_bp}\\n\")\n",
    "                output_file.write(f\"LowestBloodPressure: {lowest_bp}\\n\")\n",
    "                output_file.write(f\"AverageTemperature: {avg_temp:.2f}\\n\")\n",
    "    except FileNotFoundError:\n",
    "        print(f\"Error: File '{filename}' not found.\")\n",
    "    except Exception as e:\n",
    "        print(f\"An error occurred: {e}\")\n",
    "if __name__ == \"__main__\":\n",
    "    patient_data_file(path)\n",
    "\n",
    "\n",
    "            "
   ]
  }
 ],
 "metadata": {
  "kernelspec": {
   "display_name": "Python 3",
   "language": "python",
   "name": "python3"
  },
  "language_info": {
   "codemirror_mode": {
    "name": "ipython",
    "version": 3
   },
   "file_extension": ".py",
   "mimetype": "text/x-python",
   "name": "python",
   "nbconvert_exporter": "python",
   "pygments_lexer": "ipython3",
   "version": "3.12.5"
  }
 },
 "nbformat": 4,
 "nbformat_minor": 2
}
