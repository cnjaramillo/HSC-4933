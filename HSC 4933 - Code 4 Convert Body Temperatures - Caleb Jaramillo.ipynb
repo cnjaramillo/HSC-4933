{
 "cells": [
  {
   "cell_type": "code",
   "execution_count": 68,
   "metadata": {},
   "outputs": [
    {
     "name": "stdout",
     "output_type": "stream",
     "text": [
      "This is your original body temperature: 89.6 F\n",
      "This is your body temperature in Celsius: 32.0 C\n"
     ]
    }
   ],
   "source": [
    "Conversion=str(input(\"Choose body temperature conversion: 'C' for Celsius to Fahrenheit 'F' for Fahrenheit to Celsius: \"))\n",
    "Conversion=Conversion.casefold()\n",
    "if Conversion not in ['c','f']:\n",
    "    print(\"This is an invalid request, please try again\")\n",
    "if Conversion=='c':\n",
    "    body1=float(input(\"Please enter your body temperature in Celsius: \"))\n",
    "    Fahr=(body1*(9/5))+32\n",
    "    print(f\"This is your original body temperature: {body1:.1f} \"+\"C\")\n",
    "    print(f\"This is your body temperature in Fahrenheit: {Fahr:.1f} \"+\"F\")\n",
    "elif Conversion=='f':\n",
    "    body2=float(input(\"Please enter your body temperature in Fahrenheit: \"))\n",
    "    Celsius=(body2-32)*(5/9)\n",
    "    print(f\"This is your original body temperature: {body2:.1f} \"+\"F\")\n",
    "    print(f\"This is your body temperature in Celsius: {Celsius:.1f} \"+\"C\")"
   ]
  }
 ],
 "metadata": {
  "kernelspec": {
   "display_name": "Python 3",
   "language": "python",
   "name": "python3"
  },
  "language_info": {
   "codemirror_mode": {
    "name": "ipython",
    "version": 3
   },
   "file_extension": ".py",
   "mimetype": "text/x-python",
   "name": "python",
   "nbconvert_exporter": "python",
   "pygments_lexer": "ipython3",
   "version": "3.12.5"
  }
 },
 "nbformat": 4,
 "nbformat_minor": 2
}
